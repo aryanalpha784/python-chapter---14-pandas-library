{
 "cells": [
  {
   "cell_type": "code",
   "execution_count": 1,
   "id": "2fcde6fb-db6b-4270-9bd8-7dee9cdac369",
   "metadata": {},
   "outputs": [],
   "source": [
    "import pandas as pd"
   ]
  },
  {
   "cell_type": "code",
   "execution_count": 5,
   "id": "c62fe4f4-8006-422d-931f-309a9b96b186",
   "metadata": {},
   "outputs": [
    {
     "name": "stdout",
     "output_type": "stream",
     "text": [
      "The Length of each string:\n",
      "         Column  Length\n",
      "0         Hello       5\n",
      "1         World       5\n",
      "2        Python       6\n",
      "3  Data Science      12\n"
     ]
    }
   ],
   "source": [
    "df = pd.DataFrame({'Column' : ['Hello', 'World', 'Python', 'Data Science']})\n",
    "\n",
    "df['Length'] = df['Column'].str.len()\n",
    "print(\"The Length of each string:\")\n",
    "print(df[['Column', 'Length']])"
   ]
  },
  {
   "cell_type": "code",
   "execution_count": 7,
   "id": "9858f29d-56ba-413b-b0a9-6c7597dd0749",
   "metadata": {},
   "outputs": [
    {
     "name": "stdout",
     "output_type": "stream",
     "text": [
      "\n",
      " Text in Lower Case:\n",
      "         Column        Length\n",
      "0         Hello         hello\n",
      "1         World         world\n",
      "2        Python        python\n",
      "3  Data Science  data science\n"
     ]
    }
   ],
   "source": [
    "df = pd.DataFrame({'Column' : ['Hello', 'World', 'Python', 'Data Science']})\n",
    "\n",
    "df['Length'] = df['Column'].str.lower()\n",
    "print(\"\\n Text in Lower Case:\")\n",
    "print(df[['Column', 'Length']])"
   ]
  },
  {
   "cell_type": "code",
   "execution_count": 9,
   "id": "5ab1afa0-98f6-4f88-a5a2-8b413d0c1f65",
   "metadata": {},
   "outputs": [
    {
     "name": "stdout",
     "output_type": "stream",
     "text": [
      "\n",
      " Text contains substring:\n",
      "         Column  Containssubstring\n",
      "0         Hello              False\n",
      "1         World              False\n",
      "2        Python              False\n",
      "3  Data Science               True\n"
     ]
    }
   ],
   "source": [
    "df = pd.DataFrame({'Column' : ['Hello', 'World', 'Python', 'Data Science']})\n",
    "\n",
    "substring = 'Data'\n",
    "df['Containssubstring'] = df['Column'].str.contains(substring)\n",
    "print(\"\\n Text contains substring:\")\n",
    "print(df[['Column', 'Containssubstring']])"
   ]
  },
  {
   "cell_type": "code",
   "execution_count": 13,
   "id": "a429ff96-7cab-41df-a0e1-495206a35217",
   "metadata": {},
   "outputs": [
    {
     "name": "stdout",
     "output_type": "stream",
     "text": [
      "Index:0, Data:1,A\n",
      "Index:1, Data:2,B\n",
      "Index:2, Data:3,C\n"
     ]
    }
   ],
   "source": [
    "df = pd.DataFrame({'Column1' : [1,2,3],\n",
    "                   'Column2' : ['A', 'B', 'C']\n",
    "                  })\n",
    "\n",
    "for index, row in df.iterrows():\n",
    "    print(f\"Index:{index}, Data:{row['Column1']},{row['Column2']}\")"
   ]
  },
  {
   "cell_type": "code",
   "execution_count": 15,
   "id": "2c76acdc-a943-42bd-b0b6-ef1d6bc859e8",
   "metadata": {},
   "outputs": [
    {
     "name": "stdout",
     "output_type": "stream",
     "text": [
      "   ExistingColumn  NewColumn\n",
      "0              10        100\n",
      "1              20        400\n",
      "2              30        900\n"
     ]
    }
   ],
   "source": [
    "df = pd.DataFrame({'ExistingColumn' : [10,20,30]})\n",
    "df['NewColumn'] = df['ExistingColumn'].apply(lambda x : x * x)\n",
    "print(df)"
   ]
  },
  {
   "cell_type": "code",
   "execution_count": 19,
   "id": "77d0197f-7fac-43d8-835f-04a1a27ceee2",
   "metadata": {},
   "outputs": [
    {
     "name": "stdout",
     "output_type": "stream",
     "text": [
      "   ColumnA  ColumnB  ResultColumn\n",
      "0        1        4             5\n",
      "1        2        5             7\n",
      "2        3        6             9\n"
     ]
    }
   ],
   "source": [
    "df = pd.DataFrame({'ColumnA' : [1,2,3], 'ColumnB' : [4,5,6]})\n",
    "df['ResultColumn'] = df['ColumnA'] + df['ColumnB']\n",
    "print(df)"
   ]
  },
  {
   "cell_type": "code",
   "execution_count": 25,
   "id": "9be41d90-ceaa-448d-ae87-634b8db6b8f8",
   "metadata": {},
   "outputs": [
    {
     "name": "stdout",
     "output_type": "stream",
     "text": [
      "Sorted DataFrame by Age:\n",
      "       Name  Age  Salary\n",
      "1      Bob   22   60000\n",
      "0    Alice   25   50000\n",
      "2  Charlie   30   75000\n"
     ]
    }
   ],
   "source": [
    "df = pd.DataFrame({'Name': ['Alice', 'Bob', 'Charlie'],\n",
    "                   'Age': [25, 22, 30],\n",
    "                   'Salary': [50000, 60000, 75000]})\n",
    "\n",
    "df_sorted = df.sort_values(by='Age')\n",
    "print(\"Sorted DataFrame by Age:\\n\", df_sorted)"
   ]
  },
  {
   "cell_type": "code",
   "execution_count": 27,
   "id": "4ecf18f9-3aa9-46c3-a9e5-aeb7376bdf45",
   "metadata": {},
   "outputs": [
    {
     "name": "stdout",
     "output_type": "stream",
     "text": [
      "\n",
      "Sorted DataFrame by Age and Salary:\n",
      "       Name  Age  Salary\n",
      "1      Bob   22   60000\n",
      "0    Alice   25   50000\n",
      "2  Charlie   30   75000\n"
     ]
    }
   ],
   "source": [
    "df_sorted_multi = df.sort_values(by=['Age', 'Salary'], ascending=[True, False])\n",
    "print(\"\\nSorted DataFrame by Age and Salary:\\n\", df_sorted_multi)"
   ]
  },
  {
   "cell_type": "code",
   "execution_count": 29,
   "id": "ca184be7-5a47-47e4-9626-35bce4d5b5ec",
   "metadata": {},
   "outputs": [
    {
     "name": "stdout",
     "output_type": "stream",
     "text": [
      "\n",
      "Sorted DataFrame by Index:\n",
      "       Name  Age  Salary\n",
      "2  Charlie   30   75000\n",
      "1      Bob   22   60000\n",
      "0    Alice   25   50000\n"
     ]
    }
   ],
   "source": [
    "df_sorted_index = df.sort_index(ascending=False)\n",
    "print(\"\\nSorted DataFrame by Index:\\n\", df_sorted_index)"
   ]
  },
  {
   "cell_type": "code",
   "execution_count": 31,
   "id": "811ac4a3-531b-4a83-9abd-76068235c69e",
   "metadata": {},
   "outputs": [
    {
     "name": "stdout",
     "output_type": "stream",
     "text": [
      "\n",
      "Sorted Series by Age:\n",
      " Charlie    30\n",
      "Alice      25\n",
      "Bob        22\n",
      "Name: Age, dtype: int64\n"
     ]
    }
   ],
   "source": [
    "series = pd.Series([25, 22, 30], index=['Alice', 'Bob', 'Charlie'], name='Age')\n",
    "\n",
    "series_sorted = series.sort_values(ascending=False)\n",
    "print(\"\\nSorted Series by Age:\\n\", series_sorted)"
   ]
  },
  {
   "cell_type": "code",
   "execution_count": 33,
   "id": "831286ad-488f-4928-8f09-a630153c10cc",
   "metadata": {},
   "outputs": [
    {
     "data": {
      "image/png": "[encoded data removed]",
      "text/plain": [
       "<Figure size 640x480 with 1 Axes>"
      ]
     },
     "metadata": {},
     "output_type": "display_data"
    }
   ],
   "source": [
    "import matplotlib.pyplot as plt\n",
    "\n",
    "data = {'A': [1, 2, 3, 4, 5], 'B': [5, 4, 3, 2, 1]}\n",
    "df = pd.DataFrame(data)\n",
    "\n",
    "df.plot()\n",
    "plt.show()"
   ]
  },
  {
   "cell_type": "code",
   "execution_count": 35,
   "id": "b476fc51-00d5-49c6-8cc2-86c6478dafc7",
   "metadata": {},
   "outputs": [
    {
     "data": {
      "image/png": "[encoded data removed]",
      "text/plain": [
       "<Figure size 640x480 with 1 Axes>"
      ]
     },
     "metadata": {},
     "output_type": "display_data"
    }
   ],
   "source": [
    "df.plot(kind='bar')\n",
    "plt.show()"
   ]
  },
  {
   "cell_type": "code",
   "execution_count": null,
   "id": "94098ad7-408f-430f-9e4d-96b109646547",
   "metadata": {},
   "outputs": [],
   "source": []
  }
 ],
 "metadata": {
  "kernelspec": {
   "display_name": "Python 3 (ipykernel)",
   "language": "python",
   "name": "python3"
  },
  "language_info": {
   "codemirror_mode": {
    "name": "ipython",
    "version": 3
   },
   "file_extension": ".py",
   "mimetype": "text/x-python",
   "name": "python",
   "nbconvert_exporter": "python",
   "pygments_lexer": "ipython3",
   "version": "3.11.7"
  }
 },
 "nbformat": 4,
 "nbformat_minor": 5
}
