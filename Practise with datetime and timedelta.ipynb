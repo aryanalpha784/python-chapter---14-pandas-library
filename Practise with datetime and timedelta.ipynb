{
 "cells": [
  {
   "cell_type": "code",
   "execution_count": 2,
   "id": "5cf01d81-9f05-4c03-aa3c-d78cfb5daffb",
   "metadata": {},
   "outputs": [],
   "source": [
    "import pandas as pd"
   ]
  },
  {
   "cell_type": "code",
   "execution_count": 12,
   "id": "f6df2f53-4d62-4cda-a7fa-f89d70a4c814",
   "metadata": {},
   "outputs": [
    {
     "name": "stdout",
     "output_type": "stream",
     "text": [
      "DatetimeIndex(['2024-01-01', '2024-01-02', '2024-01-03', '2024-01-04',\n",
      "               '2024-01-05', '2024-01-06', '2024-01-07', '2024-01-08',\n",
      "               '2024-01-09', '2024-01-10',\n",
      "               ...\n",
      "               '2024-08-19', '2024-08-20', '2024-08-21', '2024-08-22',\n",
      "               '2024-08-23', '2024-08-24', '2024-08-25', '2024-08-26',\n",
      "               '2024-08-27', '2024-08-28'],\n",
      "              dtype='datetime64[ns]', length=241, freq='D')\n"
     ]
    }
   ],
   "source": [
    "date_range = pd.date_range(start = '2024-01-01', end = '2024-08-28', freq = 'D')\n",
    "print(date_range)"
   ]
  },
  {
   "cell_type": "code",
   "execution_count": 16,
   "id": "dde66792-917e-4abe-b08d-3c90a163a63d",
   "metadata": {},
   "outputs": [
    {
     "name": "stdout",
     "output_type": "stream",
     "text": [
      "        Date  Day  Month  Year\n",
      "0 2024-01-01    1      1  2024\n",
      "1 2024-02-10   10      2  2024\n",
      "2 2024-03-20   20      3  2024\n"
     ]
    }
   ],
   "source": [
    "data = {'Date' : ['2024-01-01', '2024-02-10', '2024-03-20']}\n",
    "df = pd.DataFrame(data)\n",
    "df['Date'] = pd.to_datetime(df['Date'])\n",
    "\n",
    "df['Day'] = df['Date'].dt.day\n",
    "df['Month'] = df['Date'].dt.month\n",
    "df['Year'] = df['Date'].dt.year\n",
    "\n",
    "print(df[['Date', 'Day', 'Month', 'Year']])"
   ]
  },
  {
   "cell_type": "code",
   "execution_count": 22,
   "id": "b49a127c-1cc3-4338-8e27-9b5e114bedf8",
   "metadata": {},
   "outputs": [
    {
     "name": "stdout",
     "output_type": "stream",
     "text": [
      "        Date  Weekday  IsWeekend\n",
      "0 2024-08-28        2      False\n",
      "1 2024-08-29        3      False\n",
      "2 2024-08-30        4      False\n",
      "3 2024-08-31        5       True\n",
      "4 2024-09-01        6       True\n"
     ]
    }
   ],
   "source": [
    "df = pd.DataFrame({'Date' : pd.date_range(start = '2024-08-28', periods = 5)})\n",
    "df['Weekday'] = df['Date'].dt.weekday\n",
    "df['IsWeekend'] = df['Date'].dt.weekday // 5 == 1\n",
    "print(df[['Date', 'Weekday', 'IsWeekend']])"
   ]
  },
  {
   "cell_type": "code",
   "execution_count": 28,
   "id": "898daeb8-6aaf-450c-8871-743d21295e40",
   "metadata": {},
   "outputs": [
    {
     "name": "stdout",
     "output_type": "stream",
     "text": [
      "        Date PreviousDate   NextDate\n",
      "0 2024-08-28   2024-08-27 2024-08-29\n",
      "1 2024-08-29   2024-08-28 2024-08-30\n",
      "2 2024-08-30   2024-08-29 2024-08-31\n",
      "3 2024-08-31   2024-08-30 2024-09-01\n",
      "4 2024-09-01   2024-08-31 2024-09-02\n"
     ]
    }
   ],
   "source": [
    "df['Date'] = pd.to_datetime(df['Date'])\n",
    "df['PreviousDate'] = df['Date'] - pd.Timedelta(days = 1)\n",
    "df['NextDate'] = df['Date'] + pd.Timedelta(days = 1)\n",
    "print(df[['Date', 'PreviousDate', 'NextDate']])"
   ]
  },
  {
   "cell_type": "code",
   "execution_count": 30,
   "id": "f2981a92-2120-49c3-bca1-1fe8848f7900",
   "metadata": {},
   "outputs": [
    {
     "data": {
      "text/plain": [
       "Timedelta('3 days 00:00:00')"
      ]
     },
     "execution_count": 30,
     "metadata": {},
     "output_type": "execute_result"
    }
   ],
   "source": [
    "delta = pd.Timedelta(days = 3)\n",
    "delta"
   ]
  },
  {
   "cell_type": "code",
   "execution_count": 32,
   "id": "7386e568-0674-4017-a4ff-9276875bbe08",
   "metadata": {},
   "outputs": [
    {
     "name": "stdout",
     "output_type": "stream",
     "text": [
      "        Date          FutureDate\n",
      "0 2024-08-28 2024-09-14 12:00:00\n",
      "1 2024-08-29 2024-09-15 12:00:00\n",
      "2 2024-08-30 2024-09-16 12:00:00\n",
      "3 2024-08-31 2024-09-17 12:00:00\n",
      "4 2024-09-01 2024-09-18 12:00:00\n"
     ]
    }
   ],
   "source": [
    "df['Date'] = pd.to_datetime(df['Date'])\n",
    "df['FutureDate'] = df['Date'] + pd.Timedelta(weeks = 2, days = 3, hours = 12)\n",
    "print(df[['Date', 'FutureDate']])"
   ]
  },
  {
   "cell_type": "code",
   "execution_count": 38,
   "id": "70c01e4f-93b0-429a-b92d-77c0306ef5ed",
   "metadata": {},
   "outputs": [
    {
     "name": "stdout",
     "output_type": "stream",
     "text": [
      "['Low', 'Medium', 'High', 'Low', 'Low']\n",
      "Categories (3, object): ['Low' < 'Medium' < 'High']\n"
     ]
    }
   ],
   "source": [
    "categories = ['Low', 'Medium', 'High']\n",
    "values = ['Low', 'Medium', 'High', 'Low', 'Low']\n",
    "cat_variable = pd.Categorical(values, categories = categories, ordered = True)\n",
    "print(cat_variable)"
   ]
  },
  {
   "cell_type": "code",
   "execution_count": 40,
   "id": "a82739a2-48eb-461d-b143-1d5464dbbcea",
   "metadata": {},
   "outputs": [
    {
     "name": "stdout",
     "output_type": "stream",
     "text": [
      "Category\n",
      "A    3\n",
      "B    2\n",
      "C    1\n",
      "Name: count, dtype: int64\n"
     ]
    }
   ],
   "source": [
    "df = pd.DataFrame({'Category' : ['A', 'B', 'A', 'C', 'B', 'A']})\n",
    "category_counts = df['Category'].value_counts()\n",
    "print(category_counts)"
   ]
  },
  {
   "cell_type": "code",
   "execution_count": 42,
   "id": "eea5ef3d-d90c-4280-83a7-0071f7aadbef",
   "metadata": {},
   "outputs": [
    {
     "name": "stdout",
     "output_type": "stream",
     "text": [
      "   Category_A  Category_B  Category_C\n",
      "0        True       False       False\n",
      "1       False        True       False\n",
      "2        True       False       False\n",
      "3       False       False        True\n",
      "4       False        True       False\n",
      "5        True       False       False\n"
     ]
    }
   ],
   "source": [
    "df = pd.DataFrame({'Category': ['A', 'B', 'A', 'C', 'B', 'A']})\n",
    "dummy_variables = pd.get_dummies(df['Category'], prefix='Category')\n",
    "print(dummy_variables)"
   ]
  },
  {
   "cell_type": "code",
   "execution_count": 44,
   "id": "e8d65e0a-ffe8-47d3-b698-ea418d66843a",
   "metadata": {},
   "outputs": [
    {
     "name": "stdout",
     "output_type": "stream",
     "text": [
      "  Category  Category_LabelEncoded\n",
      "0        A                      0\n",
      "1        B                      1\n",
      "2        A                      0\n",
      "3        C                      2\n",
      "4        B                      1\n",
      "5        A                      0\n"
     ]
    }
   ],
   "source": [
    "df = pd.DataFrame({'Category': ['A', 'B', 'A', 'C', 'B', 'A']})\n",
    "df['Category_LabelEncoded'] = df['Category'].astype('category').cat.codes\n",
    "print(df[['Category', 'Category_LabelEncoded']])"
   ]
  },
  {
   "cell_type": "code",
   "execution_count": null,
   "id": "0c573f43-934d-44d0-b02c-91724d1bc428",
   "metadata": {},
   "outputs": [],
   "source": []
  }
 ],
 "metadata": {
  "kernelspec": {
   "display_name": "Python 3 (ipykernel)",
   "language": "python",
   "name": "python3"
  },
  "language_info": {
   "codemirror_mode": {
    "name": "ipython",
    "version": 3
   },
   "file_extension": ".py",
   "mimetype": "text/x-python",
   "name": "python",
   "nbconvert_exporter": "python",
   "pygments_lexer": "ipython3",
   "version": "3.11.7"
  }
 },
 "nbformat": 4,
 "nbformat_minor": 5
}
